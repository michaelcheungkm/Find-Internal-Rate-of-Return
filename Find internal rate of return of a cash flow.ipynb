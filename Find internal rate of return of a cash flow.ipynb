{
 "cells": [
  {
   "cell_type": "markdown",
   "metadata": {},
   "source": [
    "## Find the internal rate of return of a cash flow"
   ]
  },
  {
   "cell_type": "markdown",
   "metadata": {},
   "source": [
    "Consider you pay an amount $P$ at $t=0$ to obtain a sequence of cash flow $(f_{1},f_{2},\\ldots,f_{n})$. The amount $f_{k}$ is collected at time $k$. At $t=n$, an amount $Q$ is collected. The present value of the cash flow at rate of return $r$ is given by\n",
    "\n",
    "$$\\sum_{k=1}^{n} \\dfrac{f_{k}}{(1+r)^{k}} + \\dfrac{Q}{(1+r)^{n}}.$$\n",
    "\n",
    "To find the internal rate of return of the cash flow, we find $r$ such that\n",
    "\n",
    "$$P = \\sum_{k=1}^{n} \\dfrac{f_{k}}{(1+r)^{k}} + \\dfrac{Q}{(1+r)^{n}}.$$"
   ]
  },
  {
   "cell_type": "markdown",
   "metadata": {},
   "source": [
    "The bisection method to find a root $r$ of a continuous function $f$ ($f(r)=0$):\n",
    "Given $a$ and $b$ such that $f(a)f(b) < 0$, we let $c = \\dfrac{a+b}{2}$. If $f(a)f(c) < 0$, we let $b=c$. Otherwise, we let $a=c$. This is iterated until either $\\lvert f(c)\\lvert < \\delta$ or $\\lvert b - c\\lvert < \\delta$."
   ]
  },
  {
   "cell_type": "code",
   "execution_count": 40,
   "metadata": {},
   "outputs": [],
   "source": [
    "cashflow = [-200000, 5000, 5000, 5000, 5000, 5000, 5000,\n",
    "5000, 5000, 5000, 5000, 5000, 5000,\n",
    "5200, 5200, 5200, 5200, 5200, 5200,\n",
    "5200, 5200, 5200, 5200, 5200, 5200,\n",
    "5500, 5500, 5500, 5500, 5500, 5500,\n",
    "5500, 5500, 5500, 5500, 5500, 5500,\n",
    "5000, 5000, 5000, 5000, 5000, 5000,\n",
    "5000, 5000, 5000, 5000, 5000, 5000,\n",
    "4500, 4500, 4500, 4500, 4500, 4500,\n",
    "4500, 4500, 4500, 4500, 4500, 4500, 200000]"
   ]
  },
  {
   "cell_type": "code",
   "execution_count": 41,
   "metadata": {},
   "outputs": [],
   "source": [
    "def npv(r,cf):\n",
    "    n = len(cf)\n",
    "    pv = sum([cf[i]/((1+r)**i) for i in range(n-1)])\n",
    "    pv = pv+cf[n-1]/((1+r)**(n-2))\n",
    "    return pv"
   ]
  },
  {
   "cell_type": "code",
   "execution_count": 49,
   "metadata": {},
   "outputs": [
    {
     "data": {
      "text/plain": [
       "300300.4431624553"
      ]
     },
     "execution_count": 49,
     "metadata": {},
     "output_type": "execute_result"
    }
   ],
   "source": [
    "npv(0.0001,cashflow)"
   ]
  },
  {
   "cell_type": "code",
   "execution_count": 50,
   "metadata": {},
   "outputs": [],
   "source": [
    "def find_root(r1,r2,cf):\n",
    "    delta = 0.0001\n",
    "    stop = 0\n",
    "    nr_of_iter = 0\n",
    "    while stop == 0:\n",
    "        c = (r1+r2)/2\n",
    "        if (abs(npv(c,cf)) < delta) or (abs((r2-r1)/2) < delta):\n",
    "            stop = 1\n",
    "        elif npv(r1,cf)*npv(c,cf) > 0:\n",
    "            r1=c\n",
    "        else:\n",
    "            r2=c\n",
    "        nr_of_iter += 1\n",
    "        if nr_of_iter > 1000:\n",
    "            stop = 1\n",
    "    return c"
   ]
  },
  {
   "cell_type": "code",
   "execution_count": 51,
   "metadata": {},
   "outputs": [
    {
     "data": {
      "text/plain": [
       "0.025380322265625005"
      ]
     },
     "execution_count": 51,
     "metadata": {},
     "output_type": "execute_result"
    }
   ],
   "source": [
    "find_root(0.0001, 0.2, cashflow)"
   ]
  },
  {
   "cell_type": "code",
   "execution_count": null,
   "metadata": {},
   "outputs": [],
   "source": []
  }
 ],
 "metadata": {
  "kernelspec": {
   "display_name": "Python 3",
   "language": "python",
   "name": "python3"
  },
  "language_info": {
   "codemirror_mode": {
    "name": "ipython",
    "version": 3
   },
   "file_extension": ".py",
   "mimetype": "text/x-python",
   "name": "python",
   "nbconvert_exporter": "python",
   "pygments_lexer": "ipython3",
   "version": "3.7.3"
  }
 },
 "nbformat": 4,
 "nbformat_minor": 2
}
